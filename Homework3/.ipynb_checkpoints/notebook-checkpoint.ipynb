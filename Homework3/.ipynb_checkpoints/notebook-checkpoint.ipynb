{
 "cells": [
  {
   "cell_type": "code",
   "execution_count": 1,
   "metadata": {},
   "outputs": [],
   "source": [
    "%matplotlib inline\n",
    "import numpy as np\n",
    "import pandas as pd\n",
    "import matplotlib.pyplot as plt\n",
    "import seaborn as sns; sns.set_context('notebook')"
   ]
  },
  {
   "cell_type": "code",
   "execution_count": 2,
   "metadata": {},
   "outputs": [],
   "source": [
    "# Import and manipulate trend data\n",
    "trend2 = pd.read_csv('trend2.csv')\n",
    "trend2.columns = trend2.columns.map(str.strip)\n",
    "trend2 = trend2.dropna(axis = 0, how = 'any')\n",
    "trend2 = trend2.reset_index()\n",
    "trend2 = trend2.drop('index', 1)"
   ]
  },
  {
   "cell_type": "code",
   "execution_count": 3,
   "metadata": {},
   "outputs": [
    {
     "data": {
      "text/html": [
       "<div>\n",
       "<style scoped>\n",
       "    .dataframe tbody tr th:only-of-type {\n",
       "        vertical-align: middle;\n",
       "    }\n",
       "\n",
       "    .dataframe tbody tr th {\n",
       "        vertical-align: top;\n",
       "    }\n",
       "\n",
       "    .dataframe thead th {\n",
       "        text-align: right;\n",
       "    }\n",
       "</style>\n",
       "<table border=\"1\" class=\"dataframe\">\n",
       "  <thead>\n",
       "    <tr style=\"text-align: right;\">\n",
       "      <th></th>\n",
       "      <th>country</th>\n",
       "      <th>year</th>\n",
       "      <th>church2</th>\n",
       "      <th>cc</th>\n",
       "      <th>gini_net</th>\n",
       "      <th>rgdpl</th>\n",
       "    </tr>\n",
       "  </thead>\n",
       "  <tbody>\n",
       "    <tr>\n",
       "      <th>0</th>\n",
       "      <td>Australia</td>\n",
       "      <td>1965</td>\n",
       "      <td>26.182790</td>\n",
       "      <td>Australia</td>\n",
       "      <td>29.16514</td>\n",
       "      <td>15.23929</td>\n",
       "    </tr>\n",
       "    <tr>\n",
       "      <th>1</th>\n",
       "      <td>Australia</td>\n",
       "      <td>1967</td>\n",
       "      <td>24.744380</td>\n",
       "      <td>Australia</td>\n",
       "      <td>29.50664</td>\n",
       "      <td>16.25018</td>\n",
       "    </tr>\n",
       "    <tr>\n",
       "      <th>2</th>\n",
       "      <td>Australia</td>\n",
       "      <td>1979</td>\n",
       "      <td>4.442971</td>\n",
       "      <td>Australia</td>\n",
       "      <td>25.75894</td>\n",
       "      <td>21.58357</td>\n",
       "    </tr>\n",
       "    <tr>\n",
       "      <th>3</th>\n",
       "      <td>Australia</td>\n",
       "      <td>1981</td>\n",
       "      <td>27.626460</td>\n",
       "      <td>Australia</td>\n",
       "      <td>28.10000</td>\n",
       "      <td>22.46979</td>\n",
       "    </tr>\n",
       "    <tr>\n",
       "      <th>4</th>\n",
       "      <td>Australia</td>\n",
       "      <td>1984</td>\n",
       "      <td>18.099700</td>\n",
       "      <td>Australia</td>\n",
       "      <td>28.80875</td>\n",
       "      <td>23.45019</td>\n",
       "    </tr>\n",
       "  </tbody>\n",
       "</table>\n",
       "</div>"
      ],
      "text/plain": [
       "     country  year    church2         cc  gini_net     rgdpl\n",
       "0  Australia  1965  26.182790  Australia  29.16514  15.23929\n",
       "1  Australia  1967  24.744380  Australia  29.50664  16.25018\n",
       "2  Australia  1979   4.442971  Australia  25.75894  21.58357\n",
       "3  Australia  1981  27.626460  Australia  28.10000  22.46979\n",
       "4  Australia  1984  18.099700  Australia  28.80875  23.45019"
      ]
     },
     "execution_count": 3,
     "metadata": {},
     "output_type": "execute_result"
    }
   ],
   "source": [
    "trend2.head()"
   ]
  },
  {
   "cell_type": "code",
   "execution_count": 4,
   "metadata": {},
   "outputs": [],
   "source": [
    "# Lookup table for each unique country, for indexing\n",
    "trend2.country = trend2.country.map(str.strip)\n",
    "countries = trend2.country.unique()\n",
    "numberOfCountries = len(countries)\n",
    "countryLookup = dict(zip(countries, range(numberOfCountries)))"
   ]
  },
  {
   "cell_type": "code",
   "execution_count": 5,
   "metadata": {},
   "outputs": [],
   "source": [
    "# Create local copies of variables.\n",
    "country = trend2['countryCode'] = trend2.country.replace(countryLookup).values\n",
    "religiosity = trend2.church2\n",
    "trend2['logReligiosity'] = logReligiosity = np.log(religiosity).values\n",
    "giniNet = trend2.gini_net.values"
   ]
  },
  {
   "cell_type": "code",
   "execution_count": 6,
   "metadata": {},
   "outputs": [
    {
     "data": {
      "text/html": [
       "<div>\n",
       "<style scoped>\n",
       "    .dataframe tbody tr th:only-of-type {\n",
       "        vertical-align: middle;\n",
       "    }\n",
       "\n",
       "    .dataframe tbody tr th {\n",
       "        vertical-align: top;\n",
       "    }\n",
       "\n",
       "    .dataframe thead th {\n",
       "        text-align: right;\n",
       "    }\n",
       "</style>\n",
       "<table border=\"1\" class=\"dataframe\">\n",
       "  <thead>\n",
       "    <tr style=\"text-align: right;\">\n",
       "      <th></th>\n",
       "      <th>country</th>\n",
       "      <th>year</th>\n",
       "      <th>church2</th>\n",
       "      <th>cc</th>\n",
       "      <th>gini_net</th>\n",
       "      <th>rgdpl</th>\n",
       "      <th>countryCode</th>\n",
       "      <th>logReligiosity</th>\n",
       "    </tr>\n",
       "  </thead>\n",
       "  <tbody>\n",
       "    <tr>\n",
       "      <th>0</th>\n",
       "      <td>Australia</td>\n",
       "      <td>1965</td>\n",
       "      <td>26.182790</td>\n",
       "      <td>Australia</td>\n",
       "      <td>29.16514</td>\n",
       "      <td>15.23929</td>\n",
       "      <td>0</td>\n",
       "      <td>3.265102</td>\n",
       "    </tr>\n",
       "    <tr>\n",
       "      <th>1</th>\n",
       "      <td>Australia</td>\n",
       "      <td>1967</td>\n",
       "      <td>24.744380</td>\n",
       "      <td>Australia</td>\n",
       "      <td>29.50664</td>\n",
       "      <td>16.25018</td>\n",
       "      <td>0</td>\n",
       "      <td>3.208598</td>\n",
       "    </tr>\n",
       "    <tr>\n",
       "      <th>2</th>\n",
       "      <td>Australia</td>\n",
       "      <td>1979</td>\n",
       "      <td>4.442971</td>\n",
       "      <td>Australia</td>\n",
       "      <td>25.75894</td>\n",
       "      <td>21.58357</td>\n",
       "      <td>0</td>\n",
       "      <td>1.491323</td>\n",
       "    </tr>\n",
       "    <tr>\n",
       "      <th>3</th>\n",
       "      <td>Australia</td>\n",
       "      <td>1981</td>\n",
       "      <td>27.626460</td>\n",
       "      <td>Australia</td>\n",
       "      <td>28.10000</td>\n",
       "      <td>22.46979</td>\n",
       "      <td>0</td>\n",
       "      <td>3.318774</td>\n",
       "    </tr>\n",
       "    <tr>\n",
       "      <th>4</th>\n",
       "      <td>Australia</td>\n",
       "      <td>1984</td>\n",
       "      <td>18.099700</td>\n",
       "      <td>Australia</td>\n",
       "      <td>28.80875</td>\n",
       "      <td>23.45019</td>\n",
       "      <td>0</td>\n",
       "      <td>2.895895</td>\n",
       "    </tr>\n",
       "  </tbody>\n",
       "</table>\n",
       "</div>"
      ],
      "text/plain": [
       "     country  year    church2         cc  gini_net     rgdpl  countryCode  \\\n",
       "0  Australia  1965  26.182790  Australia  29.16514  15.23929            0   \n",
       "1  Australia  1967  24.744380  Australia  29.50664  16.25018            0   \n",
       "2  Australia  1979   4.442971  Australia  25.75894  21.58357            0   \n",
       "3  Australia  1981  27.626460  Australia  28.10000  22.46979            0   \n",
       "4  Australia  1984  18.099700  Australia  28.80875  23.45019            0   \n",
       "\n",
       "   logReligiosity  \n",
       "0        3.265102  \n",
       "1        3.208598  \n",
       "2        1.491323  \n",
       "3        3.318774  \n",
       "4        2.895895  "
      ]
     },
     "execution_count": 6,
     "metadata": {},
     "output_type": "execute_result"
    }
   ],
   "source": [
    "trend2.head()"
   ]
  },
  {
   "cell_type": "code",
   "execution_count": 7,
   "metadata": {},
   "outputs": [
    {
     "data": {
      "image/png": "[encoded data removed]",
      "text/plain": [
       "<Figure size 432x288 with 1 Axes>"
      ]
     },
     "metadata": {
      "needs_background": "light"
     },
     "output_type": "display_data"
    }
   ],
   "source": [
    "# Distribution of religiosity levels across countries (log scale):\n",
    "trend2.church2.apply(lambda x: np.log(x)).hist(bins = 25);"
   ]
  },
  {
   "cell_type": "code",
   "execution_count": 8,
   "metadata": {},
   "outputs": [],
   "source": [
    "from pymc3 import Model, sample, Normal, HalfCauchy, Uniform, model_to_graphviz"
   ]
  },
  {
   "cell_type": "code",
   "execution_count": 9,
   "metadata": {},
   "outputs": [],
   "source": [
    "# Partial pooling model - Hierarchical model\n",
    "# Estimates for countries with less year data will shrink towards the world average.\n",
    "# Estimates for countries with more year data will be closer to the unpooled country estimates.\n",
    "giniNet = trend2.gini_net.values\n",
    "logReligiosity = trend2.logReligiosity.values"
   ]
  },
  {
   "cell_type": "code",
   "execution_count": 10,
   "metadata": {},
   "outputs": [
    {
     "data": {
      "image/svg+xml": [
       "<?xml version=\"1.0\" encoding=\"UTF-8\" standalone=\"no\"?>\n",
       "<!DOCTYPE svg PUBLIC \"-//W3C//DTD SVG 1.1//EN\"\n",
       " \"http://www.w3.org/Graphics/SVG/1.1/DTD/svg11.dtd\">\n",
       "<!-- Generated by graphviz version 2.40.1 (20161225.0304)\n",
       " -->\n",
       "<!-- Title: %3 Pages: 1 -->\n",
       "<svg width=\"439pt\" height=\"236pt\"\n",
       " viewBox=\"0.00 0.00 438.52 236.00\" xmlns=\"http://www.w3.org/2000/svg\" xmlns:xlink=\"http://www.w3.org/1999/xlink\">\n",
       "<g id=\"graph0\" class=\"graph\" transform=\"scale(1 1) rotate(0) translate(4 232)\">\n",
       "<title>%3</title>\n",
       "<polygon fill=\"#ffffff\" stroke=\"transparent\" points=\"-4,4 -4,-232 434.5198,-232 434.5198,4 -4,4\"/>\n",
       "<g id=\"clust1\" class=\"cluster\">\n",
       "<title>cluster37</title>\n",
       "<path fill=\"none\" stroke=\"#000000\" d=\"M132.5116,-90C132.5116,-90 224.5116,-90 224.5116,-90 230.5116,-90 236.5116,-96 236.5116,-102 236.5116,-102 236.5116,-152 236.5116,-152 236.5116,-158 230.5116,-164 224.5116,-164 224.5116,-164 132.5116,-164 132.5116,-164 126.5116,-164 120.5116,-158 120.5116,-152 120.5116,-152 120.5116,-102 120.5116,-102 120.5116,-96 126.5116,-90 132.5116,-90\"/>\n",
       "<text text-anchor=\"middle\" x=\"221.5116\" y=\"-96.8\" font-family=\"Times,serif\" font-size=\"14.00\" fill=\"#000000\">37</text>\n",
       "</g>\n",
       "<g id=\"clust2\" class=\"cluster\">\n",
       "<title>cluster588</title>\n",
       "<path fill=\"none\" stroke=\"#000000\" d=\"M159.5116,-8C159.5116,-8 287.5116,-8 287.5116,-8 293.5116,-8 299.5116,-14 299.5116,-20 299.5116,-20 299.5116,-70 299.5116,-70 299.5116,-76 293.5116,-82 287.5116,-82 287.5116,-82 159.5116,-82 159.5116,-82 153.5116,-82 147.5116,-76 147.5116,-70 147.5116,-70 147.5116,-20 147.5116,-20 147.5116,-14 153.5116,-8 159.5116,-8\"/>\n",
       "<text text-anchor=\"middle\" x=\"281.0116\" y=\"-14.8\" font-family=\"Times,serif\" font-size=\"14.00\" fill=\"#000000\">588</text>\n",
       "</g>\n",
       "<!-- sigma_a -->\n",
       "<g id=\"node1\" class=\"node\">\n",
       "<title>sigma_a</title>\n",
       "<ellipse fill=\"none\" stroke=\"#000000\" cx=\"91.5116\" cy=\"-210\" rx=\"91.5232\" ry=\"18\"/>\n",
       "<text text-anchor=\"middle\" x=\"91.5116\" y=\"-205.8\" font-family=\"Times,serif\" font-size=\"14.00\" fill=\"#000000\">sigma_a ~ HalfCauchy</text>\n",
       "</g>\n",
       "<!-- a -->\n",
       "<g id=\"node4\" class=\"node\">\n",
       "<title>a</title>\n",
       "<ellipse fill=\"none\" stroke=\"#000000\" cx=\"178.5116\" cy=\"-138\" rx=\"50.0056\" ry=\"18\"/>\n",
       "<text text-anchor=\"middle\" x=\"178.5116\" y=\"-133.8\" font-family=\"Times,serif\" font-size=\"14.00\" fill=\"#000000\">a ~ Normal</text>\n",
       "</g>\n",
       "<!-- sigma_a&#45;&gt;a -->\n",
       "<g id=\"edge1\" class=\"edge\">\n",
       "<title>sigma_a&#45;&gt;a</title>\n",
       "<path fill=\"none\" stroke=\"#000000\" d=\"M113.0172,-192.2022C124.3012,-182.8638 138.2647,-171.3078 150.3959,-161.2682\"/>\n",
       "<polygon fill=\"#000000\" stroke=\"#000000\" points=\"152.9738,-163.6779 158.4462,-154.6058 148.5108,-158.2852 152.9738,-163.6779\"/>\n",
       "</g>\n",
       "<!-- sigma_y -->\n",
       "<g id=\"node2\" class=\"node\">\n",
       "<title>sigma_y</title>\n",
       "<ellipse fill=\"none\" stroke=\"#000000\" cx=\"338.5116\" cy=\"-138\" rx=\"92.0164\" ry=\"18\"/>\n",
       "<text text-anchor=\"middle\" x=\"338.5116\" y=\"-133.8\" font-family=\"Times,serif\" font-size=\"14.00\" fill=\"#000000\">sigma_y ~ HalfCauchy</text>\n",
       "</g>\n",
       "<!-- y_like -->\n",
       "<g id=\"node5\" class=\"node\">\n",
       "<title>y_like</title>\n",
       "<ellipse fill=\"#d3d3d3\" stroke=\"#000000\" cx=\"223.5116\" cy=\"-56\" rx=\"68.3628\" ry=\"18\"/>\n",
       "<text text-anchor=\"middle\" x=\"223.5116\" y=\"-51.8\" font-family=\"Times,serif\" font-size=\"14.00\" fill=\"#000000\">y_like ~ Normal</text>\n",
       "</g>\n",
       "<!-- sigma_y&#45;&gt;y_like -->\n",
       "<g id=\"edge3\" class=\"edge\">\n",
       "<title>sigma_y&#45;&gt;y_like</title>\n",
       "<path fill=\"none\" stroke=\"#000000\" d=\"M314.1231,-120.6099C297.0848,-108.4609 274.1625,-92.1163 255.6364,-78.9063\"/>\n",
       "<polygon fill=\"#000000\" stroke=\"#000000\" points=\"257.6448,-76.0398 247.4707,-73.0838 253.5808,-81.7393 257.6448,-76.0398\"/>\n",
       "</g>\n",
       "<!-- mu_a -->\n",
       "<g id=\"node3\" class=\"node\">\n",
       "<title>mu_a</title>\n",
       "<ellipse fill=\"none\" stroke=\"#000000\" cx=\"266.5116\" cy=\"-210\" rx=\"65.9488\" ry=\"18\"/>\n",
       "<text text-anchor=\"middle\" x=\"266.5116\" y=\"-205.8\" font-family=\"Times,serif\" font-size=\"14.00\" fill=\"#000000\">mu_a ~ Normal</text>\n",
       "</g>\n",
       "<!-- mu_a&#45;&gt;a -->\n",
       "<g id=\"edge2\" class=\"edge\">\n",
       "<title>mu_a&#45;&gt;a</title>\n",
       "<path fill=\"none\" stroke=\"#000000\" d=\"M245.2093,-192.5708C233.6092,-183.0799 219.1108,-171.2175 206.5972,-160.9791\"/>\n",
       "<polygon fill=\"#000000\" stroke=\"#000000\" points=\"208.6669,-158.1503 198.7109,-154.5267 204.2342,-163.568 208.6669,-158.1503\"/>\n",
       "</g>\n",
       "<!-- a&#45;&gt;y_like -->\n",
       "<g id=\"edge4\" class=\"edge\">\n",
       "<title>a&#45;&gt;y_like</title>\n",
       "<path fill=\"none\" stroke=\"#000000\" d=\"M188.2759,-120.2072C194.2496,-109.322 202.009,-95.1825 208.7252,-82.9441\"/>\n",
       "<polygon fill=\"#000000\" stroke=\"#000000\" points=\"211.8683,-84.4918 213.6109,-74.0412 205.7316,-81.124 211.8683,-84.4918\"/>\n",
       "</g>\n",
       "</g>\n",
       "</svg>\n"
      ],
      "text/plain": [
       "<graphviz.dot.Digraph at 0x1c1e070ac8>"
      ]
     },
     "execution_count": 10,
     "metadata": {},
     "output_type": "execute_result"
    }
   ],
   "source": [
    "with Model() as partialPooling:\n",
    "\n",
    "    # Priors\n",
    "    mu_a = Normal('mu_a', mu=0., sd=1e5)\n",
    "    sigma_a = HalfCauchy('sigma_a', 5)\n",
    "\n",
    "    # Random intercepts\n",
    "    a = Normal('a', mu=mu_a, sd=sigma_a, shape=numberOfCountries)\n",
    "\n",
    "    # Model error\n",
    "    sigma_y = HalfCauchy('sigma_y',5)\n",
    "\n",
    "    # Expected value\n",
    "    y_hat = a[country]\n",
    "\n",
    "    # Data likelihood\n",
    "    y_like = Normal('y_like', mu=y_hat, sd=sigma_y, observed=logReligiosity)\n",
    "\n",
    "model_to_graphviz(partialPooling)"
   ]
  },
  {
   "cell_type": "code",
   "execution_count": 11,
   "metadata": {},
   "outputs": [
    {
     "name": "stderr",
     "output_type": "stream",
     "text": [
      "Auto-assigning NUTS sampler...\n",
      "Initializing NUTS using jitter+adapt_diag...\n",
      "Multiprocess sampling (2 chains in 2 jobs)\n",
      "NUTS: [sigma_y, a, sigma_a, mu_a]\n",
      "Sampling 2 chains: 100%|██████████| 4000/4000 [00:06<00:00, 660.73draws/s]\n"
     ]
    }
   ],
   "source": [
    "with partialPooling:\n",
    "    partialPoolingTrace = sample(1000, tune=1000)"
   ]
  },
  {
   "cell_type": "code",
   "execution_count": 12,
   "metadata": {},
   "outputs": [
    {
     "data": {
      "image/png": "[encoded data removed]",
      "text/plain": [
       "<Figure size 1296x432 with 2 Axes>"
      ]
     },
     "metadata": {
      "needs_background": "light"
     },
     "output_type": "display_data"
    }
   ],
   "source": [
    "sampleTrace = partialPoolingTrace['a']\n",
    "\n",
    "fig, axes = plt.subplots(1, 2, figsize=(18,6), sharex=True, sharey=True)\n",
    "samples, numberOfCountries = sampleTrace.shape\n",
    "jitter = np.random.normal(scale=0.1, size=numberOfCountries)\n",
    "\n",
    "# Get count of the sampled years for each country\n",
    "nCountry = trend2.groupby('country')['year'].count()\n",
    "\n",
    "# Unpooled approach\n",
    "unpooledMeans = trend2.groupby('country')['logReligiosity'].mean()\n",
    "unpooledSd = trend2.groupby('country')['logReligiosity'].std()\n",
    "unpooled = pd.DataFrame({'n':nCountry, 'm':unpooledMeans, 'sd':unpooledSd})\n",
    "unpooled['se'] = unpooled.sd/np.sqrt(unpooled.n)\n",
    "\n",
    "axes[0].plot(unpooled.n + jitter, unpooled.m, 'b.')\n",
    "for j, row in zip(jitter, unpooled.iterrows()):\n",
    "    name, dat = row\n",
    "    axes[0].plot([dat.n+j,dat.n+j], [dat.m-dat.se, dat.m+dat.se], 'b-')\n",
    "axes[0].set_xscale('log')\n",
    "axes[0].hlines(sampleTrace.mean(), 0.9, 100, linestyles='--')\n",
    "\n",
    "# Partially pooled approach\n",
    "samples, numberOfCountries = sampleTrace.shape\n",
    "means = sampleTrace.mean(axis=0)\n",
    "sd = sampleTrace.std(axis=0)\n",
    "axes[1].scatter(nCountry.values + jitter, means)\n",
    "axes[1].set_xscale('log')\n",
    "axes[1].set_xlim(1,100)\n",
    "axes[1].set_ylim(0.5, 4.5)\n",
    "axes[1].hlines(sampleTrace.mean(), 0.9, 100, linestyles='--')\n",
    "for j,n,m,s in zip(jitter, nCountry.values, means, sd):\n",
    "    axes[1].plot([n+j]*2, [m-s, m+s], 'b-')"
   ]
  },
  {
   "cell_type": "markdown",
   "metadata": {},
   "source": [
    "Difference between the unpooled and partially-pooled estimates, particularly at smaller sample sizes can be noticed."
   ]
  },
  {
   "cell_type": "markdown",
   "metadata": {},
   "source": [
    "# Model with the Varying Intercepts "
   ]
  },
  {
   "cell_type": "code",
   "execution_count": 13,
   "metadata": {},
   "outputs": [
    {
     "data": {
      "image/svg+xml": [
       "<?xml version=\"1.0\" encoding=\"UTF-8\" standalone=\"no\"?>\n",
       "<!DOCTYPE svg PUBLIC \"-//W3C//DTD SVG 1.1//EN\"\n",
       " \"http://www.w3.org/Graphics/SVG/1.1/DTD/svg11.dtd\">\n",
       "<!-- Generated by graphviz version 2.40.1 (20161225.0304)\n",
       " -->\n",
       "<!-- Title: %3 Pages: 1 -->\n",
       "<svg width=\"531pt\" height=\"236pt\"\n",
       " viewBox=\"0.00 0.00 531.26 236.00\" xmlns=\"http://www.w3.org/2000/svg\" xmlns:xlink=\"http://www.w3.org/1999/xlink\">\n",
       "<g id=\"graph0\" class=\"graph\" transform=\"scale(1 1) rotate(0) translate(4 232)\">\n",
       "<title>%3</title>\n",
       "<polygon fill=\"#ffffff\" stroke=\"transparent\" points=\"-4,4 -4,-232 527.2589,-232 527.2589,4 -4,4\"/>\n",
       "<g id=\"clust1\" class=\"cluster\">\n",
       "<title>cluster37</title>\n",
       "<path fill=\"none\" stroke=\"#000000\" d=\"M132.5116,-90C132.5116,-90 224.5116,-90 224.5116,-90 230.5116,-90 236.5116,-96 236.5116,-102 236.5116,-102 236.5116,-152 236.5116,-152 236.5116,-158 230.5116,-164 224.5116,-164 224.5116,-164 132.5116,-164 132.5116,-164 126.5116,-164 120.5116,-158 120.5116,-152 120.5116,-152 120.5116,-102 120.5116,-102 120.5116,-96 126.5116,-90 132.5116,-90\"/>\n",
       "<text text-anchor=\"middle\" x=\"221.5116\" y=\"-96.8\" font-family=\"Times,serif\" font-size=\"14.00\" fill=\"#000000\">37</text>\n",
       "</g>\n",
       "<g id=\"clust2\" class=\"cluster\">\n",
       "<title>cluster588</title>\n",
       "<path fill=\"none\" stroke=\"#000000\" d=\"M233.5116,-8C233.5116,-8 361.5116,-8 361.5116,-8 367.5116,-8 373.5116,-14 373.5116,-20 373.5116,-20 373.5116,-70 373.5116,-70 373.5116,-76 367.5116,-82 361.5116,-82 361.5116,-82 233.5116,-82 233.5116,-82 227.5116,-82 221.5116,-76 221.5116,-70 221.5116,-70 221.5116,-20 221.5116,-20 221.5116,-14 227.5116,-8 233.5116,-8\"/>\n",
       "<text text-anchor=\"middle\" x=\"355.0116\" y=\"-14.8\" font-family=\"Times,serif\" font-size=\"14.00\" fill=\"#000000\">588</text>\n",
       "</g>\n",
       "<!-- sigma_a -->\n",
       "<g id=\"node1\" class=\"node\">\n",
       "<title>sigma_a</title>\n",
       "<ellipse fill=\"none\" stroke=\"#000000\" cx=\"91.5116\" cy=\"-210\" rx=\"91.5232\" ry=\"18\"/>\n",
       "<text text-anchor=\"middle\" x=\"91.5116\" y=\"-205.8\" font-family=\"Times,serif\" font-size=\"14.00\" fill=\"#000000\">sigma_a ~ HalfCauchy</text>\n",
       "</g>\n",
       "<!-- a -->\n",
       "<g id=\"node5\" class=\"node\">\n",
       "<title>a</title>\n",
       "<ellipse fill=\"none\" stroke=\"#000000\" cx=\"178.5116\" cy=\"-138\" rx=\"50.0056\" ry=\"18\"/>\n",
       "<text text-anchor=\"middle\" x=\"178.5116\" y=\"-133.8\" font-family=\"Times,serif\" font-size=\"14.00\" fill=\"#000000\">a ~ Normal</text>\n",
       "</g>\n",
       "<!-- sigma_a&#45;&gt;a -->\n",
       "<g id=\"edge1\" class=\"edge\">\n",
       "<title>sigma_a&#45;&gt;a</title>\n",
       "<path fill=\"none\" stroke=\"#000000\" d=\"M113.0172,-192.2022C124.3012,-182.8638 138.2647,-171.3078 150.3959,-161.2682\"/>\n",
       "<polygon fill=\"#000000\" stroke=\"#000000\" points=\"152.9738,-163.6779 158.4462,-154.6058 148.5108,-158.2852 152.9738,-163.6779\"/>\n",
       "</g>\n",
       "<!-- b -->\n",
       "<g id=\"node2\" class=\"node\">\n",
       "<title>b</title>\n",
       "<ellipse fill=\"none\" stroke=\"#000000\" cx=\"297.5116\" cy=\"-138\" rx=\"50.9988\" ry=\"18\"/>\n",
       "<text text-anchor=\"middle\" x=\"297.5116\" y=\"-133.8\" font-family=\"Times,serif\" font-size=\"14.00\" fill=\"#000000\">b ~ Normal</text>\n",
       "</g>\n",
       "<!-- y_like -->\n",
       "<g id=\"node6\" class=\"node\">\n",
       "<title>y_like</title>\n",
       "<ellipse fill=\"#d3d3d3\" stroke=\"#000000\" cx=\"297.5116\" cy=\"-56\" rx=\"68.3628\" ry=\"18\"/>\n",
       "<text text-anchor=\"middle\" x=\"297.5116\" y=\"-51.8\" font-family=\"Times,serif\" font-size=\"14.00\" fill=\"#000000\">y_like ~ Normal</text>\n",
       "</g>\n",
       "<!-- b&#45;&gt;y_like -->\n",
       "<g id=\"edge4\" class=\"edge\">\n",
       "<title>b&#45;&gt;y_like</title>\n",
       "<path fill=\"none\" stroke=\"#000000\" d=\"M297.5116,-119.8015C297.5116,-109.3976 297.5116,-96.1215 297.5116,-84.3768\"/>\n",
       "<polygon fill=\"#000000\" stroke=\"#000000\" points=\"301.0117,-84.1476 297.5116,-74.1476 294.0117,-84.1476 301.0117,-84.1476\"/>\n",
       "</g>\n",
       "<!-- sd_y -->\n",
       "<g id=\"node3\" class=\"node\">\n",
       "<title>sd_y</title>\n",
       "<ellipse fill=\"none\" stroke=\"#000000\" cx=\"444.5116\" cy=\"-138\" rx=\"78.9954\" ry=\"18\"/>\n",
       "<text text-anchor=\"middle\" x=\"444.5116\" y=\"-133.8\" font-family=\"Times,serif\" font-size=\"14.00\" fill=\"#000000\">sd_y ~ HalfCauchy</text>\n",
       "</g>\n",
       "<!-- sd_y&#45;&gt;y_like -->\n",
       "<g id=\"edge3\" class=\"edge\">\n",
       "<title>sd_y&#45;&gt;y_like</title>\n",
       "<path fill=\"none\" stroke=\"#000000\" d=\"M414.4093,-121.2082C391.7666,-108.5776 360.5632,-91.1717 336.0897,-77.5198\"/>\n",
       "<polygon fill=\"#000000\" stroke=\"#000000\" points=\"337.5096,-74.3041 327.0714,-72.4891 334.0995,-80.4173 337.5096,-74.3041\"/>\n",
       "</g>\n",
       "<!-- mu_a -->\n",
       "<g id=\"node4\" class=\"node\">\n",
       "<title>mu_a</title>\n",
       "<ellipse fill=\"none\" stroke=\"#000000\" cx=\"266.5116\" cy=\"-210\" rx=\"65.9488\" ry=\"18\"/>\n",
       "<text text-anchor=\"middle\" x=\"266.5116\" y=\"-205.8\" font-family=\"Times,serif\" font-size=\"14.00\" fill=\"#000000\">mu_a ~ Normal</text>\n",
       "</g>\n",
       "<!-- mu_a&#45;&gt;a -->\n",
       "<g id=\"edge2\" class=\"edge\">\n",
       "<title>mu_a&#45;&gt;a</title>\n",
       "<path fill=\"none\" stroke=\"#000000\" d=\"M245.2093,-192.5708C233.6092,-183.0799 219.1108,-171.2175 206.5972,-160.9791\"/>\n",
       "<polygon fill=\"#000000\" stroke=\"#000000\" points=\"208.6669,-158.1503 198.7109,-154.5267 204.2342,-163.568 208.6669,-158.1503\"/>\n",
       "</g>\n",
       "<!-- a&#45;&gt;y_like -->\n",
       "<g id=\"edge5\" class=\"edge\">\n",
       "<title>a&#45;&gt;y_like</title>\n",
       "<path fill=\"none\" stroke=\"#000000\" d=\"M197.5439,-121.1499C208.8046,-111.5332 223.5546,-99.5332 237.5116,-90 243.9766,-85.5842 251.0536,-81.2059 258.0081,-77.1341\"/>\n",
       "<polygon fill=\"#000000\" stroke=\"#000000\" points=\"259.7565,-80.1661 266.6964,-72.1606 256.2789,-74.0911 259.7565,-80.1661\"/>\n",
       "</g>\n",
       "</g>\n",
       "</svg>\n"
      ],
      "text/plain": [
       "<graphviz.dot.Digraph at 0x1c1ef3c2b0>"
      ]
     },
     "execution_count": 13,
     "metadata": {},
     "output_type": "execute_result"
    }
   ],
   "source": [
    "# Include varying intercepts for country and the year\n",
    "with Model() as varyingIntercept:\n",
    "\n",
    "    # Priors\n",
    "    mu_a = Normal('mu_a', mu=0., tau=0.0001)\n",
    "    sigma_a = HalfCauchy('sigma_a', 5)\n",
    "\n",
    "    # Random intercepts\n",
    "    a = Normal('a', mu=mu_a, sd=sigma_a, shape=numberOfCountries)\n",
    "    \n",
    "    # Common slope\n",
    "    b = Normal('b', mu=0., sd=1e5)\n",
    "\n",
    "    # Model error\n",
    "    sd_y = HalfCauchy('sd_y', 5)\n",
    "\n",
    "    # Expected value\n",
    "    y_hat = a[country] + b * giniNet\n",
    "\n",
    "    # Data likelihood\n",
    "    y_like = Normal('y_like', mu=y_hat, sd=sd_y, observed=logReligiosity)\n",
    "\n",
    "model_to_graphviz(varyingIntercept)"
   ]
  },
  {
   "cell_type": "code",
   "execution_count": 15,
   "metadata": {},
   "outputs": [
    {
     "name": "stderr",
     "output_type": "stream",
     "text": [
      "Auto-assigning NUTS sampler...\n",
      "Initializing NUTS using jitter+adapt_diag...\n",
      "Multiprocess sampling (2 chains in 2 jobs)\n",
      "NUTS: [sd_y, b, a, sigma_a, mu_a]\n",
      "Sampling 2 chains: 100%|██████████| 4000/4000 [00:16<00:00, 247.57draws/s]\n",
      "The estimated number of effective samples is smaller than 200 for some parameters.\n"
     ]
    }
   ],
   "source": [
    "# Fit the model using MCMC\n",
    "with varyingIntercept:\n",
    "    varyingInterceptTrace = sample(1000, tune=1000)"
   ]
  },
  {
   "cell_type": "code",
   "execution_count": 16,
   "metadata": {},
   "outputs": [],
   "source": [
    "from pymc3 import forestplot, traceplot, plot_posterior"
   ]
  },
  {
   "cell_type": "code",
   "execution_count": 17,
   "metadata": {},
   "outputs": [
    {
     "data": {
      "image/png": "[encoded data removed]",
      "text/plain": [
       "<Figure size 432x1008 with 2 Axes>"
      ]
     },
     "metadata": {
      "needs_background": "light"
     },
     "output_type": "display_data"
    }
   ],
   "source": [
    "plt.figure(figsize=(6,14))\n",
    "forestplot(varyingInterceptTrace, varnames=['a']);"
   ]
  },
  {
   "cell_type": "code",
   "execution_count": 18,
   "metadata": {},
   "outputs": [
    {
     "data": {
      "image/png": "[encoded data removed]",
      "text/plain": [
       "<Figure size 864x180 with 2 Axes>"
      ]
     },
     "metadata": {
      "needs_background": "light"
     },
     "output_type": "display_data"
    }
   ],
   "source": [
    "plot_posterior(varyingInterceptTrace, varnames=['sigma_a', 'b']);"
   ]
  },
  {
   "cell_type": "code",
   "execution_count": 19,
   "metadata": {},
   "outputs": [],
   "source": [
    "from pymc3 import summary"
   ]
  },
  {
   "cell_type": "code",
   "execution_count": 20,
   "metadata": {},
   "outputs": [
    {
     "data": {
      "text/html": [
       "<div>\n",
       "<style scoped>\n",
       "    .dataframe tbody tr th:only-of-type {\n",
       "        vertical-align: middle;\n",
       "    }\n",
       "\n",
       "    .dataframe tbody tr th {\n",
       "        vertical-align: top;\n",
       "    }\n",
       "\n",
       "    .dataframe thead th {\n",
       "        text-align: right;\n",
       "    }\n",
       "</style>\n",
       "<table border=\"1\" class=\"dataframe\">\n",
       "  <thead>\n",
       "    <tr style=\"text-align: right;\">\n",
       "      <th></th>\n",
       "      <th>mean</th>\n",
       "      <th>sd</th>\n",
       "      <th>mc_error</th>\n",
       "      <th>hpd_2.5</th>\n",
       "      <th>hpd_97.5</th>\n",
       "      <th>n_eff</th>\n",
       "      <th>Rhat</th>\n",
       "    </tr>\n",
       "  </thead>\n",
       "  <tbody>\n",
       "    <tr>\n",
       "      <th>b</th>\n",
       "      <td>0.010682</td>\n",
       "      <td>0.008573</td>\n",
       "      <td>0.000767</td>\n",
       "      <td>-0.00603</td>\n",
       "      <td>0.025805</td>\n",
       "      <td>37.621336</td>\n",
       "      <td>1.02949</td>\n",
       "    </tr>\n",
       "  </tbody>\n",
       "</table>\n",
       "</div>"
      ],
      "text/plain": [
       "       mean        sd  mc_error  hpd_2.5  hpd_97.5      n_eff     Rhat\n",
       "b  0.010682  0.008573  0.000767 -0.00603  0.025805  37.621336  1.02949"
      ]
     },
     "execution_count": 20,
     "metadata": {},
     "output_type": "execute_result"
    }
   ],
   "source": [
    "summary(varyingInterceptTrace, varnames=['b'])"
   ]
  },
  {
   "cell_type": "markdown",
   "metadata": {},
   "source": [
    "The estimate for the giniNet coefficient is approximately 0.011"
   ]
  },
  {
   "cell_type": "markdown",
   "metadata": {},
   "source": [
    "# Show estimates for some sample countries"
   ]
  },
  {
   "cell_type": "code",
   "execution_count": 21,
   "metadata": {},
   "outputs": [],
   "source": [
    "sampleCountries = ('Australia', 'Chile', 'Turkey',\n",
    "                    'United States', 'Ireland', 'Ukraine', 'Italy', 'Israel')"
   ]
  },
  {
   "cell_type": "code",
   "execution_count": 23,
   "metadata": {},
   "outputs": [],
   "source": [
    "bp = varyingInterceptTrace[a].mean(axis=0)\n",
    "mp = varyingInterceptTrace[b].mean()"
   ]
  },
  {
   "cell_type": "code",
   "execution_count": 24,
   "metadata": {},
   "outputs": [
    {
     "data": {
      "image/png": "[encoded data removed]",
      "text/plain": [
       "<Figure size 864x432 with 8 Axes>"
      ]
     },
     "metadata": {
      "needs_background": "light"
     },
     "output_type": "display_data"
    }
   ],
   "source": [
    "fig, axes = plt.subplots(2, 4, figsize=(12, 6), sharey=True, sharex=True)\n",
    "axes = axes.ravel()\n",
    "for i,c in enumerate(sampleCountries):\n",
    "\n",
    "    # Plot country data\n",
    "    y = trend2.logReligiosity[trend2.country==c]\n",
    "    x = trend2.gini_net[trend2.country==c]\n",
    "    axes[i].scatter(x + np.random.randn(len(x))*0.01, y, alpha=0.4)\n",
    "\n",
    "    xvals = np.linspace(20, 60)\n",
    "    # Partial pooling estimate\n",
    "    axes[i].plot(xvals, mp*xvals+bp[countryLookup[c]], 'r--')\n",
    "    axes[i].set_ylim(-1, 5)\n",
    "    axes[i].set_xlim(20,60)\n",
    "    axes[i].set_title(c)\n",
    "    if not i%2:\n",
    "        axes[i].set_ylabel('logReligiosity')"
   ]
  },
  {
   "cell_type": "markdown",
   "metadata": {},
   "source": [
    "It is noticable that the partial pooling model provides reasonable estimates, even for countries with small sample sizes of different years."
   ]
  },
  {
   "cell_type": "markdown",
   "metadata": {},
   "source": [
    "# New model with informative beta prior"
   ]
  },
  {
   "cell_type": "markdown",
   "metadata": {},
   "source": [
    "Chosing highly informative prior beta value that is relatively far away from the posterior estimate from last model with little standard deviation and mu around 0.03 which is far from 0.01"
   ]
  },
  {
   "cell_type": "code",
   "execution_count": 25,
   "metadata": {},
   "outputs": [
    {
     "data": {
      "image/svg+xml": [
       "<?xml version=\"1.0\" encoding=\"UTF-8\" standalone=\"no\"?>\n",
       "<!DOCTYPE svg PUBLIC \"-//W3C//DTD SVG 1.1//EN\"\n",
       " \"http://www.w3.org/Graphics/SVG/1.1/DTD/svg11.dtd\">\n",
       "<!-- Generated by graphviz version 2.40.1 (20161225.0304)\n",
       " -->\n",
       "<!-- Title: %3 Pages: 1 -->\n",
       "<svg width=\"531pt\" height=\"236pt\"\n",
       " viewBox=\"0.00 0.00 531.26 236.00\" xmlns=\"http://www.w3.org/2000/svg\" xmlns:xlink=\"http://www.w3.org/1999/xlink\">\n",
       "<g id=\"graph0\" class=\"graph\" transform=\"scale(1 1) rotate(0) translate(4 232)\">\n",
       "<title>%3</title>\n",
       "<polygon fill=\"#ffffff\" stroke=\"transparent\" points=\"-4,4 -4,-232 527.2589,-232 527.2589,4 -4,4\"/>\n",
       "<g id=\"clust1\" class=\"cluster\">\n",
       "<title>cluster37</title>\n",
       "<path fill=\"none\" stroke=\"#000000\" d=\"M132.5116,-90C132.5116,-90 224.5116,-90 224.5116,-90 230.5116,-90 236.5116,-96 236.5116,-102 236.5116,-102 236.5116,-152 236.5116,-152 236.5116,-158 230.5116,-164 224.5116,-164 224.5116,-164 132.5116,-164 132.5116,-164 126.5116,-164 120.5116,-158 120.5116,-152 120.5116,-152 120.5116,-102 120.5116,-102 120.5116,-96 126.5116,-90 132.5116,-90\"/>\n",
       "<text text-anchor=\"middle\" x=\"221.5116\" y=\"-96.8\" font-family=\"Times,serif\" font-size=\"14.00\" fill=\"#000000\">37</text>\n",
       "</g>\n",
       "<g id=\"clust2\" class=\"cluster\">\n",
       "<title>cluster588</title>\n",
       "<path fill=\"none\" stroke=\"#000000\" d=\"M233.5116,-8C233.5116,-8 361.5116,-8 361.5116,-8 367.5116,-8 373.5116,-14 373.5116,-20 373.5116,-20 373.5116,-70 373.5116,-70 373.5116,-76 367.5116,-82 361.5116,-82 361.5116,-82 233.5116,-82 233.5116,-82 227.5116,-82 221.5116,-76 221.5116,-70 221.5116,-70 221.5116,-20 221.5116,-20 221.5116,-14 227.5116,-8 233.5116,-8\"/>\n",
       "<text text-anchor=\"middle\" x=\"355.0116\" y=\"-14.8\" font-family=\"Times,serif\" font-size=\"14.00\" fill=\"#000000\">588</text>\n",
       "</g>\n",
       "<!-- sigma_a -->\n",
       "<g id=\"node1\" class=\"node\">\n",
       "<title>sigma_a</title>\n",
       "<ellipse fill=\"none\" stroke=\"#000000\" cx=\"91.5116\" cy=\"-210\" rx=\"91.5232\" ry=\"18\"/>\n",
       "<text text-anchor=\"middle\" x=\"91.5116\" y=\"-205.8\" font-family=\"Times,serif\" font-size=\"14.00\" fill=\"#000000\">sigma_a ~ HalfCauchy</text>\n",
       "</g>\n",
       "<!-- a -->\n",
       "<g id=\"node5\" class=\"node\">\n",
       "<title>a</title>\n",
       "<ellipse fill=\"none\" stroke=\"#000000\" cx=\"178.5116\" cy=\"-138\" rx=\"50.0056\" ry=\"18\"/>\n",
       "<text text-anchor=\"middle\" x=\"178.5116\" y=\"-133.8\" font-family=\"Times,serif\" font-size=\"14.00\" fill=\"#000000\">a ~ Normal</text>\n",
       "</g>\n",
       "<!-- sigma_a&#45;&gt;a -->\n",
       "<g id=\"edge1\" class=\"edge\">\n",
       "<title>sigma_a&#45;&gt;a</title>\n",
       "<path fill=\"none\" stroke=\"#000000\" d=\"M113.0172,-192.2022C124.3012,-182.8638 138.2647,-171.3078 150.3959,-161.2682\"/>\n",
       "<polygon fill=\"#000000\" stroke=\"#000000\" points=\"152.9738,-163.6779 158.4462,-154.6058 148.5108,-158.2852 152.9738,-163.6779\"/>\n",
       "</g>\n",
       "<!-- b -->\n",
       "<g id=\"node2\" class=\"node\">\n",
       "<title>b</title>\n",
       "<ellipse fill=\"none\" stroke=\"#000000\" cx=\"297.5116\" cy=\"-138\" rx=\"50.9988\" ry=\"18\"/>\n",
       "<text text-anchor=\"middle\" x=\"297.5116\" y=\"-133.8\" font-family=\"Times,serif\" font-size=\"14.00\" fill=\"#000000\">b ~ Normal</text>\n",
       "</g>\n",
       "<!-- y_like -->\n",
       "<g id=\"node6\" class=\"node\">\n",
       "<title>y_like</title>\n",
       "<ellipse fill=\"#d3d3d3\" stroke=\"#000000\" cx=\"297.5116\" cy=\"-56\" rx=\"68.3628\" ry=\"18\"/>\n",
       "<text text-anchor=\"middle\" x=\"297.5116\" y=\"-51.8\" font-family=\"Times,serif\" font-size=\"14.00\" fill=\"#000000\">y_like ~ Normal</text>\n",
       "</g>\n",
       "<!-- b&#45;&gt;y_like -->\n",
       "<g id=\"edge3\" class=\"edge\">\n",
       "<title>b&#45;&gt;y_like</title>\n",
       "<path fill=\"none\" stroke=\"#000000\" d=\"M297.5116,-119.8015C297.5116,-109.3976 297.5116,-96.1215 297.5116,-84.3768\"/>\n",
       "<polygon fill=\"#000000\" stroke=\"#000000\" points=\"301.0117,-84.1476 297.5116,-74.1476 294.0117,-84.1476 301.0117,-84.1476\"/>\n",
       "</g>\n",
       "<!-- sd_y -->\n",
       "<g id=\"node3\" class=\"node\">\n",
       "<title>sd_y</title>\n",
       "<ellipse fill=\"none\" stroke=\"#000000\" cx=\"444.5116\" cy=\"-138\" rx=\"78.9954\" ry=\"18\"/>\n",
       "<text text-anchor=\"middle\" x=\"444.5116\" y=\"-133.8\" font-family=\"Times,serif\" font-size=\"14.00\" fill=\"#000000\">sd_y ~ HalfCauchy</text>\n",
       "</g>\n",
       "<!-- sd_y&#45;&gt;y_like -->\n",
       "<g id=\"edge4\" class=\"edge\">\n",
       "<title>sd_y&#45;&gt;y_like</title>\n",
       "<path fill=\"none\" stroke=\"#000000\" d=\"M414.4093,-121.2082C391.7666,-108.5776 360.5632,-91.1717 336.0897,-77.5198\"/>\n",
       "<polygon fill=\"#000000\" stroke=\"#000000\" points=\"337.5096,-74.3041 327.0714,-72.4891 334.0995,-80.4173 337.5096,-74.3041\"/>\n",
       "</g>\n",
       "<!-- mu_a -->\n",
       "<g id=\"node4\" class=\"node\">\n",
       "<title>mu_a</title>\n",
       "<ellipse fill=\"none\" stroke=\"#000000\" cx=\"266.5116\" cy=\"-210\" rx=\"65.9488\" ry=\"18\"/>\n",
       "<text text-anchor=\"middle\" x=\"266.5116\" y=\"-205.8\" font-family=\"Times,serif\" font-size=\"14.00\" fill=\"#000000\">mu_a ~ Normal</text>\n",
       "</g>\n",
       "<!-- mu_a&#45;&gt;a -->\n",
       "<g id=\"edge2\" class=\"edge\">\n",
       "<title>mu_a&#45;&gt;a</title>\n",
       "<path fill=\"none\" stroke=\"#000000\" d=\"M245.2093,-192.5708C233.6092,-183.0799 219.1108,-171.2175 206.5972,-160.9791\"/>\n",
       "<polygon fill=\"#000000\" stroke=\"#000000\" points=\"208.6669,-158.1503 198.7109,-154.5267 204.2342,-163.568 208.6669,-158.1503\"/>\n",
       "</g>\n",
       "<!-- a&#45;&gt;y_like -->\n",
       "<g id=\"edge5\" class=\"edge\">\n",
       "<title>a&#45;&gt;y_like</title>\n",
       "<path fill=\"none\" stroke=\"#000000\" d=\"M197.5439,-121.1499C208.8046,-111.5332 223.5546,-99.5332 237.5116,-90 243.9766,-85.5842 251.0536,-81.2059 258.0081,-77.1341\"/>\n",
       "<polygon fill=\"#000000\" stroke=\"#000000\" points=\"259.7565,-80.1661 266.6964,-72.1606 256.2789,-74.0911 259.7565,-80.1661\"/>\n",
       "</g>\n",
       "</g>\n",
       "</svg>\n"
      ],
      "text/plain": [
       "<graphviz.dot.Digraph at 0x1c20992240>"
      ]
     },
     "execution_count": 25,
     "metadata": {},
     "output_type": "execute_result"
    }
   ],
   "source": [
    "with Model() as varyingInterceptWithPriorBeta:\n",
    "\n",
    "    # Priors\n",
    "    mu_a = Normal('mu_a', mu=0., tau=0.0001)\n",
    "    sigma_a = HalfCauchy('sigma_a', 5)\n",
    "\n",
    "    # Random intercepts\n",
    "    a = Normal('a', mu=mu_a, sd=sigma_a, shape=numberOfCountries)\n",
    "    \n",
    "    # Common slope\n",
    "    b = Normal('b', mu=0.03, sd=0.01)\n",
    "\n",
    "    # Model error\n",
    "    sd_y = HalfCauchy('sd_y', 5)\n",
    "\n",
    "    # Expected value\n",
    "    y_hat = a[country] + b * giniNet\n",
    "\n",
    "    # Data likelihood\n",
    "    y_like = Normal('y_like', mu=y_hat, sd=sd_y, observed=logReligiosity)\n",
    "\n",
    "model_to_graphviz(varyingInterceptWithPriorBeta)"
   ]
  },
  {
   "cell_type": "code",
   "execution_count": 27,
   "metadata": {},
   "outputs": [
    {
     "name": "stderr",
     "output_type": "stream",
     "text": [
      "Auto-assigning NUTS sampler...\n",
      "Initializing NUTS using jitter+adapt_diag...\n",
      "Multiprocess sampling (2 chains in 2 jobs)\n",
      "NUTS: [sd_y, b, a, sigma_a, mu_a]\n",
      "Sampling 2 chains: 100%|██████████| 4000/4000 [00:18<00:00, 215.99draws/s]\n",
      "The estimated number of effective samples is smaller than 200 for some parameters.\n"
     ]
    }
   ],
   "source": [
    "with varyingInterceptWithPriorBeta:\n",
    "    varyingInterceptTraceWithPriorBeta = sample(1000, tune=1000)"
   ]
  },
  {
   "cell_type": "code",
   "execution_count": 28,
   "metadata": {},
   "outputs": [
    {
     "data": {
      "image/png": "[encoded data removed]",
      "text/plain": [
       "<Figure size 432x1008 with 2 Axes>"
      ]
     },
     "metadata": {
      "needs_background": "light"
     },
     "output_type": "display_data"
    }
   ],
   "source": [
    "plt.figure(figsize=(6,14))\n",
    "forestplot(varyingInterceptTraceWithPriorBeta, varnames=['a']);"
   ]
  },
  {
   "cell_type": "code",
   "execution_count": 29,
   "metadata": {},
   "outputs": [
    {
     "data": {
      "image/png": "[encoded data removed]",
      "text/plain": [
       "<Figure size 864x180 with 2 Axes>"
      ]
     },
     "metadata": {
      "needs_background": "light"
     },
     "output_type": "display_data"
    }
   ],
   "source": [
    "plot_posterior(varyingInterceptTraceWithPriorBeta, varnames=['sigma_a', 'b']);"
   ]
  },
  {
   "cell_type": "code",
   "execution_count": 30,
   "metadata": {},
   "outputs": [
    {
     "data": {
      "text/html": [
       "<div>\n",
       "<style scoped>\n",
       "    .dataframe tbody tr th:only-of-type {\n",
       "        vertical-align: middle;\n",
       "    }\n",
       "\n",
       "    .dataframe tbody tr th {\n",
       "        vertical-align: top;\n",
       "    }\n",
       "\n",
       "    .dataframe thead th {\n",
       "        text-align: right;\n",
       "    }\n",
       "</style>\n",
       "<table border=\"1\" class=\"dataframe\">\n",
       "  <thead>\n",
       "    <tr style=\"text-align: right;\">\n",
       "      <th></th>\n",
       "      <th>mean</th>\n",
       "      <th>sd</th>\n",
       "      <th>mc_error</th>\n",
       "      <th>hpd_2.5</th>\n",
       "      <th>hpd_97.5</th>\n",
       "      <th>n_eff</th>\n",
       "      <th>Rhat</th>\n",
       "    </tr>\n",
       "  </thead>\n",
       "  <tbody>\n",
       "    <tr>\n",
       "      <th>b</th>\n",
       "      <td>0.019481</td>\n",
       "      <td>0.006582</td>\n",
       "      <td>0.000575</td>\n",
       "      <td>0.004306</td>\n",
       "      <td>0.030189</td>\n",
       "      <td>41.78965</td>\n",
       "      <td>1.00831</td>\n",
       "    </tr>\n",
       "  </tbody>\n",
       "</table>\n",
       "</div>"
      ],
      "text/plain": [
       "       mean        sd  mc_error   hpd_2.5  hpd_97.5     n_eff     Rhat\n",
       "b  0.019481  0.006582  0.000575  0.004306  0.030189  41.78965  1.00831"
      ]
     },
     "execution_count": 30,
     "metadata": {},
     "output_type": "execute_result"
    }
   ],
   "source": [
    "summary(varyingInterceptTraceWithPriorBeta, varnames=['b'])"
   ]
  },
  {
   "cell_type": "markdown",
   "metadata": {},
   "source": [
    "The estimate for the giniNet coefficient is changed from 0.011 to 0.019 with informative beta prior."
   ]
  },
  {
   "cell_type": "markdown",
   "metadata": {},
   "source": [
    "### Comparision of Informative and Uninformative Prior"
   ]
  },
  {
   "cell_type": "markdown",
   "metadata": {},
   "source": [
    "When the prior was uninformative, the posterior was very much determined by the data. On the other hand, when the prior is informative as in second model, the posterior is a mixture of the prior and the data. The more informative the prior, the more data is needed to \"change\" your beliefs (prior), so to speak because the posterior is very much driven by the prior information. But if there is a lot of data, the data will dominate the posterior distribution (they will overwhelm the prior)"
   ]
  }
 ],
 "metadata": {
  "kernelspec": {
   "display_name": "Python 3",
   "language": "python",
   "name": "python3"
  },
  "language_info": {
   "codemirror_mode": {
    "name": "ipython",
    "version": 3
   },
   "file_extension": ".py",
   "mimetype": "text/x-python",
   "name": "python",
   "nbconvert_exporter": "python",
   "pygments_lexer": "ipython3",
   "version": "3.6.7"
  }
 },
 "nbformat": 4,
 "nbformat_minor": 2
}
